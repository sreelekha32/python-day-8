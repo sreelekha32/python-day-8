{
 "cells": [
  {
   "cell_type": "markdown",
   "metadata": {},
   "source": [
    "### day objectives\n",
    "- python data structures\n",
    "    >lists\n",
    "    >tuples\n",
    "    >dictionaries\n",
    "- Basic program sets on data structures\n",
    "- advanced problem set\n",
    "- contact application (dictionary object)\n",
    "\n",
    "** Data structures:\n",
    " - to store,search and sort the data"
   ]
  },
  {
   "cell_type": "markdown",
   "metadata": {},
   "source": [
    "### python data structures\n",
    "### lists\n",
    "- it's one of common data structures supports by  python,the lists items are seperated by comma operator and enclosed in sqare brackets\n",
    "    -example:\n",
    "       list1 = [1,6,2,18,9]\n",
    "       list2 = [\"gitam\",10,12,15.5,\"hyderabad\"]"
   ]
  },
  {
   "cell_type": "code",
   "execution_count": 1,
   "metadata": {},
   "outputs": [
    {
     "name": "stdout",
     "output_type": "stream",
     "text": [
      "[1, 8, 16, 9, 2]\n",
      "1\n",
      "8\n",
      "2\n",
      "9\n",
      "[8, 16, 9, 2]\n",
      "[8, 16, 9]\n"
     ]
    }
   ],
   "source": [
    "lst=[1,8,16,9,2]\n",
    "print(lst) #access the entire list\n",
    "print(lst[0])#access the first item list\n",
    "print(lst[1])\n",
    "print(lst[-1])#acess the last item of the list\n",
    "print(lst[-2])\n",
    "print(lst[1:])\n",
    "print(lst[1:4])"
   ]
  },
  {
   "cell_type": "code",
   "execution_count": 5,
   "metadata": {},
   "outputs": [
    {
     "name": "stdout",
     "output_type": "stream",
     "text": [
      "['gitam', 'python', 1989, 2002]\n",
      "['gitam', 'python', 2019, 2002]\n"
     ]
    }
   ],
   "source": [
    "li=[\"gitam\",\"python\",1989,2002]\n",
    "print(li)\n",
    "li[2]=2019\n",
    "print(li)"
   ]
  },
  {
   "cell_type": "code",
   "execution_count": 6,
   "metadata": {},
   "outputs": [
    {
     "name": "stdout",
     "output_type": "stream",
     "text": [
      "['gitam', 'python', 2019, 2002]\n",
      "['gitam', 'python', 2002]\n"
     ]
    }
   ],
   "source": [
    "# delete the specific item in the list\n",
    "print(li)\n",
    "del li[2]\n",
    "print(li)"
   ]
  },
  {
   "cell_type": "code",
   "execution_count": 9,
   "metadata": {},
   "outputs": [
    {
     "name": "stdout",
     "output_type": "stream",
     "text": [
      "5\n",
      "[1, 9, 6, 18, 2, 1, 9, 6, 18, 2]\n",
      "5\n",
      "True\n",
      "False\n",
      "1 9 6 18 2 "
     ]
    }
   ],
   "source": [
    "#basic list operation\n",
    "c=[1,9,6,18,2]\n",
    "print(len(c))#len of list\n",
    "print(c*2) #repetation\n",
    "print(len(c))\n",
    "print(9 in c)\n",
    "print(15 in c)\n",
    "#access the list items using iteration\n",
    "for x in range(len(c)):\n",
    "    print(c[x],end=' ')"
   ]
  },
  {
   "cell_type": "code",
   "execution_count": 11,
   "metadata": {},
   "outputs": [
    {
     "name": "stdout",
     "output_type": "stream",
     "text": [
      "1\n",
      "16\n",
      "36\n",
      "7\n",
      "8.5\n"
     ]
    }
   ],
   "source": [
    "# fuction of the list\n",
    "lst\n",
    "print(min(lst))\n",
    "print(max(lst))\n",
    "print(sum(lst))\n",
    "print(sum(lst)//len(lst))\n",
    "print(sum(lst[1::2])/len(lst[1::2]))"
   ]
  },
  {
   "cell_type": "code",
   "execution_count": 19,
   "metadata": {},
   "outputs": [
    {
     "data": {
      "text/plain": [
       "[1, 9, 16, 23, 24, 24, 24, 24, 24, 45, 56, 56, 56, 56, 123, 23, 45]"
      ]
     },
     "execution_count": 19,
     "metadata": {},
     "output_type": "execute_result"
    }
   ],
   "source": [
    "lst\n",
    "lst.append(24) #adding a new element at the end of the list\n",
    "lst\n",
    "lst.insert(2,56) #adding an element at particular index\n",
    "lst\n",
    "lst.count(18) #return the value how many times the object repeated\n",
    "lst.index(56) #returns index of object\n",
    "lst.sort() #it's sort the list in ascendind order\n",
    "lst\n",
    "lst.pop() #remove the last element from  the list\n",
    "lst\n",
    "lst.pop(1) #remove an element from a particular index\n",
    "lst2=[123,23,45]\n",
    "lst.extend(lst2) #merge the list2 into list\n",
    "lst"
   ]
  },
  {
   "cell_type": "code",
   "execution_count": 18,
   "metadata": {},
   "outputs": [
    {
     "name": "stdout",
     "output_type": "stream",
     "text": [
      "[3, 2]\n"
     ]
    }
   ],
   "source": [
    "b=[1,9,8,2,6,3]\n",
    "print(b[-1:2:-2])"
   ]
  },
  {
   "cell_type": "code",
   "execution_count": 21,
   "metadata": {},
   "outputs": [
    {
     "data": {
      "text/plain": [
       "6"
      ]
     },
     "execution_count": 21,
     "metadata": {},
     "output_type": "execute_result"
    }
   ],
   "source": [
    "# function to find second large item from the list\n",
    "# input: [1,19,6,2,8,18,3]\n",
    "#output: 18\n",
    "def secondlarge(b):\n",
    "    b.sort()\n",
    "    return b[-2]\n",
    "def genericlarge(b,n):\n",
    "    b.sort()\n",
    "    return b[-n]\n",
    "b=[1,19,6,2,8,18,3]\n",
    "genericlarge(b,4)"
   ]
  },
  {
   "cell_type": "code",
   "execution_count": 22,
   "metadata": {},
   "outputs": [
    {
     "data": {
      "text/plain": [
       "6"
      ]
     },
     "execution_count": 22,
     "metadata": {},
     "output_type": "execute_result"
    }
   ],
   "source": [
    "# function to find the least item from the list\n",
    "# input: (1,9,6,2,8,18,3)\n",
    "# output: 2\n",
    "def secondleast(li):\n",
    "    li.sort()\n",
    "    return li[1]\n",
    "def genericleast(li,n):\n",
    "    li.sort()\n",
    "    return li[n-1]\n",
    "li = [1,19,6,2,8,18,3]\n",
    "genericleast(li,4)\n",
    "            "
   ]
  },
  {
   "cell_type": "markdown",
   "metadata": {},
   "source": [
    "### linear search\n",
    "- linear search algorithm can be applied on duplicate and unique list\n",
    "    -unique list: the all item of the list is appeared only once\n",
    "    -dupliacte list: the items of the list can be appeared more than once\n",
    "- linear search algorithm can be applied on sorted list or unsorted list"
   ]
  },
  {
   "cell_type": "code",
   "execution_count": 24,
   "metadata": {},
   "outputs": [
    {
     "data": {
      "text/plain": [
       "2"
      ]
     },
     "execution_count": 24,
     "metadata": {},
     "output_type": "execute_result"
    }
   ],
   "source": [
    "# function to search for the data the list\n",
    "# search is foundf then return the index if not return -1\n",
    "def linearsearch(li,taritem):\n",
    "    for x in range(len(li)):\n",
    "        if li[x]==taritem:\n",
    "            return x\n",
    "    return -1\n",
    "li=[1,19,6,2,8,18,3]\n",
    "linearsearch(li,6)"
   ]
  },
  {
   "cell_type": "code",
   "execution_count": 27,
   "metadata": {},
   "outputs": [
    {
     "name": "stdout",
     "output_type": "stream",
     "text": [
      "5 "
     ]
    }
   ],
   "source": [
    "# function\n",
    "# input: [1,5,9,6,5,15,1,2,5],key=5 #duplicate\n",
    "#output: 1 4 8\n",
    "def linearsearch(li,taritem):\n",
    "    for x in range(len(li)):\n",
    "        if li[x]==taritem:\n",
    "            print(x,end=\" \")    \n",
    "    return\n",
    "li=[1,5,9,6,5,15,1,2,5]\n",
    "linearsearch(li,15)"
   ]
  },
  {
   "cell_type": "code",
   "execution_count": 29,
   "metadata": {},
   "outputs": [
    {
     "name": "stdout",
     "output_type": "stream",
     "text": [
      "!! \n",
      "!!!!! \n",
      "!!!!!!!!! \n"
     ]
    }
   ],
   "source": [
    "# function\n",
    "# input: list\n",
    "# optput: seq of characters\n",
    "# test case\n",
    "# [1,5,9,6,5,15,1,2,5],[tar=5]---!!  !!!!!    !!!!!!!!!\n",
    "def linearsearch(li,taritem):\n",
    "    #implement the logic\n",
    "    for x in range(len(li)):\n",
    "        if li[x]==taritem:\n",
    "            for k in range(x+1):\n",
    "                print(end=\"!\")\n",
    "            print(\" \")\n",
    "    return\n",
    "li=[1,5,9,6,5,15,1,2,5]\n",
    "linearsearch(li,5)"
   ]
  },
  {
   "cell_type": "code",
   "execution_count": 32,
   "metadata": {},
   "outputs": [
    {
     "data": {
      "text/plain": [
       "60"
      ]
     },
     "execution_count": 32,
     "metadata": {},
     "output_type": "execute_result"
    }
   ],
   "source": [
    "#function\n",
    "#input: list\n",
    "#output: formatted\n",
    "#test case\n",
    "#[12,2,45,9,18,15,21,36]-----60\n",
    "# a list item which is perfectly multiple of 3 and 5\n",
    "def mul(li):\n",
    "    sum=0\n",
    "    for x in range(len(li)):\n",
    "        if li[x]%3==0 and li[x]%5==0:\n",
    "                sum+=li[x]\n",
    "    return sum\n",
    "li=[12,2,45,9,18,15,21,36]\n",
    "mul(li)"
   ]
  },
  {
   "cell_type": "code",
   "execution_count": 33,
   "metadata": {},
   "outputs": [
    {
     "name": "stdout",
     "output_type": "stream",
     "text": [
      "1 3 8 15 5 "
     ]
    }
   ],
   "source": [
    "# function\n",
    "# input: list\n",
    "# output: formated output\n",
    "# testcase:\n",
    "# [1,2,3,4,5]--[1,3,8,15,5]\n",
    "#[6,5,2,8,2]--[6,12,40,4,2]\n",
    "def mul2(li):\n",
    "    for x in range(len(li)):\n",
    "        if x==0 or x==len(li)-1:\n",
    "            print(li[x],end=\" \")\n",
    "        else:\n",
    "            print(li[x-1]*li[x+1],end=\" \")\n",
    "    return \n",
    "li=[1,2,3,4,5]\n",
    "mul2(li)"
   ]
  },
  {
   "cell_type": "code",
   "execution_count": 34,
   "metadata": {},
   "outputs": [
    {
     "name": "stdout",
     "output_type": "stream",
     "text": [
      "\n",
      "multi-dimensional list:\n",
      "[['gitam', 'for'], ['education']]\n"
     ]
    }
   ],
   "source": [
    "list=[['gitam','for'],['education']]\n",
    "print(\"\\nmulti-dimensional list:\")\n",
    "print(list)"
   ]
  },
  {
   "cell_type": "code",
   "execution_count": 6,
   "metadata": {},
   "outputs": [
    {
     "name": "stdout",
     "output_type": "stream",
     "text": [
      "1 9 19 22 "
     ]
    }
   ],
   "source": [
    "# function\n",
    "# input: list\n",
    "#output: formatted output\n",
    "#testcase\n",
    "#[1,6,9,4,16,19,22]----1 9 19 22\n",
    "def even(li):\n",
    "    for x in range(len(li)):\n",
    "        if x==0 or x==len(li)-1:\n",
    "            print(li[x],end=\" \")\n",
    "        elif li[x-1]%2==0 and li[x+1]%2==0:\n",
    "            print(li[x],end=\" \")\n",
    "            \n",
    "    return\n",
    "li=[1,6,9,4,16,19,22]\n",
    "even(li)"
   ]
  },
  {
   "cell_type": "markdown",
   "metadata": {},
   "source": [
    "### number to list\n",
    "- input as number\n",
    "- expecteed output will be list"
   ]
  },
  {
   "cell_type": "code",
   "execution_count": 3,
   "metadata": {},
   "outputs": [
    {
     "data": {
      "text/plain": [
       "[1, 4, 5, 6, 9]"
      ]
     },
     "execution_count": 3,
     "metadata": {},
     "output_type": "execute_result"
    }
   ],
   "source": [
    "# function for conversion number to list\n",
    "# input---number\n",
    "# output---list\n",
    "# testcases:-\n",
    "# 14569---[1,4,5,6,9]\n",
    "# 1990---[1,9,9,0]\n",
    "def rev(n):\n",
    "    li=[]\n",
    "    while n !=0:\n",
    "        r=n%10\n",
    "        li.append(r)\n",
    "        n=n//10\n",
    "    li.reverse()\n",
    "    return li\n",
    "rev(14569)"
   ]
  },
  {
   "cell_type": "code",
   "execution_count": 2,
   "metadata": {},
   "outputs": [
    {
     "data": {
      "text/plain": [
       "2"
      ]
     },
     "execution_count": 2,
     "metadata": {},
     "output_type": "execute_result"
    }
   ],
   "source": [
    "# function to count the occurance of a character in a string\n",
    "# # \"python programming\" ,p->2\n",
    "# \"python programming\" ,m->2\n",
    "def countchar(s,c):\n",
    "    cnt=0\n",
    "    for ch in s:\n",
    "        if ch==c:\n",
    "            cnt+=1\n",
    "    return cnt\n",
    "countchar(\"python programming\",'m')\n",
    "    "
   ]
  },
  {
   "cell_type": "markdown",
   "metadata": {},
   "source": [
    "### sting to list conversions\n",
    "- input will be string\n",
    "- expected  output will be list"
   ]
  },
  {
   "cell_type": "code",
   "execution_count": 5,
   "metadata": {},
   "outputs": [
    {
     "data": {
      "text/plain": [
       "[1, 2, 3, 4, 5, 6]"
      ]
     },
     "execution_count": 5,
     "metadata": {},
     "output_type": "execute_result"
    }
   ],
   "source": [
    "#function to convert string to list\n",
    "# test care\n",
    "# \"1 2 3 4 5 6\"---[1,2,3,4,5,6]\n",
    "def string(s):\n",
    "    li=s.split()\n",
    "    numberslist=[]\n",
    "    for i in li:\n",
    "        numberslist.append(int(i))\n",
    "    return numberslist\n",
    "s=\"1 2 3 4 5 6\"\n",
    "string(s)"
   ]
  },
  {
   "cell_type": "markdown",
   "metadata": {},
   "source": [
    "### sorting algorthims:\n",
    " - bubble sort\n",
    " - selection sort\n",
    " - insertion sort"
   ]
  },
  {
   "cell_type": "markdown",
   "metadata": {},
   "source": [
    "### bubble sort:\n",
    "- this algorithm compares the adj elements,if the first elements is greater\n",
    "- than second element than its required to swap the elements"
   ]
  },
  {
   "cell_type": "code",
   "execution_count": 6,
   "metadata": {},
   "outputs": [
    {
     "name": "stdout",
     "output_type": "stream",
     "text": [
      "p\n",
      "y\n",
      "t\n",
      "h\n",
      "o\n",
      "n\n",
      " \n",
      "p\n",
      "r\n",
      "o\n",
      "g\n",
      "r\n",
      "a\n",
      "m\n",
      "m\n",
      "i\n",
      "n\n",
      "g\n"
     ]
    }
   ],
   "source": [
    "for i in \"python programming\":\n",
    "    print(i)"
   ]
  },
  {
   "cell_type": "code",
   "execution_count": 8,
   "metadata": {},
   "outputs": [
    {
     "data": {
      "text/plain": [
       "[1, 3, 6, 18, 19, 25]"
      ]
     },
     "execution_count": 8,
     "metadata": {},
     "output_type": "execute_result"
    }
   ],
   "source": [
    "# function to represent the bubble sort\n",
    "def bubble(li):\n",
    "    for i in range(len(li)-1):\n",
    "        for j in range(len(li)-1):\n",
    "            if li[j]>li[j+1]:#\n",
    "                li[j],li[j+1]=li[j+1],li[j]\n",
    "    return li\n",
    "li=[19,1,25,6,18,3]\n",
    "bubble(li)"
   ]
  },
  {
   "cell_type": "code",
   "execution_count": null,
   "metadata": {},
   "outputs": [],
   "source": [
    "#"
   ]
  }
 ],
 "metadata": {
  "kernelspec": {
   "display_name": "Python 3",
   "language": "python",
   "name": "python3"
  },
  "language_info": {
   "codemirror_mode": {
    "name": "ipython",
    "version": 3
   },
   "file_extension": ".py",
   "mimetype": "text/x-python",
   "name": "python",
   "nbconvert_exporter": "python",
   "pygments_lexer": "ipython3",
   "version": "3.7.3"
  }
 },
 "nbformat": 4,
 "nbformat_minor": 2
}
